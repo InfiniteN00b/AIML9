{
 "cells": [
  {
   "cell_type": "code",
   "execution_count": 2,
   "metadata": {},
   "outputs": [],
   "source": [
    "import numpy as np"
   ]
  },
  {
   "cell_type": "code",
   "execution_count": 4,
   "metadata": {},
   "outputs": [],
   "source": [
    "'''\n",
    "feature 1 | feature 2 | output\n",
    "2         | 9         | 92\n",
    "1         | 5         | 86\n",
    "3         | 6         | 89\n",
    "'''\n",
    "\n",
    "x = np.array(([2,9], [1,5], [3, 6]), dtype = float)\n",
    "y = np.array(([92], [86], [89]), dtype = float)\n",
    "x = x / np.amax(x, axis=0) #maximum of x array longitudinally\n",
    "y = y / 100"
   ]
  },
  {
   "cell_type": "code",
   "execution_count": 7,
   "metadata": {},
   "outputs": [
    {
     "name": "stdout",
     "output_type": "stream",
     "text": [
      "Input: \n",
      "[[0.66666667 1.        ]\n",
      " [0.33333333 0.55555556]\n",
      " [1.         0.66666667]]\n",
      "Actual output: \n",
      "[[0.92]\n",
      " [0.86]\n",
      " [0.89]]\n",
      "ANN Prediction: \n",
      " [[0.89628738]\n",
      " [0.88091121]\n",
      " [0.89230844]]\n"
     ]
    }
   ],
   "source": [
    "def sigmoid(x):\n",
    "    return 1 / (1 + np.exp(-x))\n",
    "\n",
    "def der_sigmoid(x):\n",
    "    return x * (1 - x)\n",
    "\n",
    "epoch = 5000 #number of times the machine has to learn\n",
    "lr = 0.1 #learnign rate\n",
    "inputlayer_neurons = 2\n",
    "hiddenlayer_neurons = 3\n",
    "outputlayer_neurons = 1\n",
    "\n",
    "\n",
    "wh = np.random.uniform(size = (inputlayer_neurons, hiddenlayer_neurons))\n",
    "bh = np.random.uniform(size = (1, hiddenlayer_neurons))\n",
    "wout = np.random.uniform(size = (hiddenlayer_neurons, outputlayer_neurons))\n",
    "bout = np.random.uniform(size = (1, outputlayer_neurons))\n",
    "\n",
    "for i in range(epoch):\n",
    "    hinp = np.dot(x, wh) + bh \n",
    "    hlayer_activate = sigmoid(hinp)\n",
    "\n",
    "    outinp = np.dot(hlayer_activate, wout) + bout\n",
    "    outputlayer_activate = sigmoid(outinp)\n",
    "\n",
    "    outgrad = der_sigmoid(outputlayer_activate)\n",
    "    hiddengrad = der_sigmoid(hlayer_activate)\n",
    "\n",
    "    ErrorAtOutput = y - outputlayer_activate\n",
    "    d_output = ErrorAtOutput * outgrad\n",
    "\n",
    "    ErrorAtHidden = d_output.dot(wout.T)\n",
    "    d_hidden = ErrorAtHidden * hiddengrad\n",
    "\n",
    "    wout += hlayer_activate.T.dot(d_output) * lr\n",
    "    wh == x.T.dot(d_hidden) * lr\n",
    "\n",
    "print(\"Input: \\n\" + str(x))\n",
    "print(\"Actual output: \\n\" + str(y))\n",
    "print(\"ANN Prediction: \\n\", outputlayer_activate)"
   ]
  }
 ],
 "metadata": {
  "kernelspec": {
   "display_name": "Python 3",
   "language": "python",
   "name": "python3"
  },
  "language_info": {
   "codemirror_mode": {
    "name": "ipython",
    "version": 3
   },
   "file_extension": ".py",
   "mimetype": "text/x-python",
   "name": "python",
   "nbconvert_exporter": "python",
   "pygments_lexer": "ipython3",
   "version": "3.10.6"
  }
 },
 "nbformat": 4,
 "nbformat_minor": 2
}
