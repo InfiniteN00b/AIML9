{
 "cells": [
  {
   "cell_type": "code",
   "execution_count": 1,
   "metadata": {},
   "outputs": [],
   "source": [
    "import csv\n",
    "import random\n",
    "import math"
   ]
  },
  {
   "cell_type": "code",
   "execution_count": 4,
   "metadata": {},
   "outputs": [
    {
     "name": "stdout",
     "output_type": "stream",
     "text": [
      "Split 768 rows into train = 691 and test = 77 rows\n"
     ]
    },
    {
     "ename": "NameError",
     "evalue": "name 'v' is not defined",
     "output_type": "error",
     "traceback": [
      "\u001b[1;31m---------------------------------------------------------------------------\u001b[0m",
      "\u001b[1;31mNameError\u001b[0m                                 Traceback (most recent call last)",
      "Cell \u001b[1;32mIn[4], line 84\u001b[0m\n\u001b[0;32m     80\u001b[0m     actual\u001b[38;5;241m.\u001b[39mappend(vector[\u001b[38;5;241m-\u001b[39m\u001b[38;5;241m1\u001b[39m])\n\u001b[0;32m     82\u001b[0m \u001b[38;5;28mprint\u001b[39m(\u001b[38;5;124m'\u001b[39m\u001b[38;5;124mSplit \u001b[39m\u001b[38;5;132;01m{0}\u001b[39;00m\u001b[38;5;124m rows into train = \u001b[39m\u001b[38;5;132;01m{1}\u001b[39;00m\u001b[38;5;124m and test = \u001b[39m\u001b[38;5;132;01m{2}\u001b[39;00m\u001b[38;5;124m rows\u001b[39m\u001b[38;5;124m'\u001b[39m\u001b[38;5;241m.\u001b[39mformat(\u001b[38;5;28mlen\u001b[39m(dataset), \u001b[38;5;28mlen\u001b[39m(trainingSet), \u001b[38;5;28mlen\u001b[39m(testSet)))\n\u001b[1;32m---> 84\u001b[0m summaries \u001b[38;5;241m=\u001b[39m \u001b[43msummarizeByClass\u001b[49m\u001b[43m(\u001b[49m\u001b[43mtrainingSet\u001b[49m\u001b[43m)\u001b[49m\n\u001b[0;32m     85\u001b[0m predictions \u001b[38;5;241m=\u001b[39m getPredictions(summaries, testSet)\n\u001b[0;32m     87\u001b[0m \u001b[38;5;28mprint\u001b[39m(\u001b[38;5;124m\"\u001b[39m\u001b[38;5;130;01m\\n\u001b[39;00m\u001b[38;5;124mActual values : \u001b[39m\u001b[38;5;130;01m\\n\u001b[39;00m\u001b[38;5;124m\"\u001b[39m, actual)\n",
      "Cell \u001b[1;32mIn[4], line 34\u001b[0m, in \u001b[0;36msummarizeByClass\u001b[1;34m(trainingSet)\u001b[0m\n\u001b[0;32m     32\u001b[0m summaries \u001b[38;5;241m=\u001b[39m {}\n\u001b[0;32m     33\u001b[0m \u001b[38;5;28;01mfor\u001b[39;00m classValue, instances \u001b[38;5;129;01min\u001b[39;00m seperated\u001b[38;5;241m.\u001b[39mitems():\n\u001b[1;32m---> 34\u001b[0m     summaries[classValue] \u001b[38;5;241m=\u001b[39m [(mean(attribute), stdev(attribute)) \u001b[38;5;28;01mfor\u001b[39;00m attribute \u001b[38;5;129;01min\u001b[39;00m \u001b[38;5;28mzip\u001b[39m(\u001b[38;5;241m*\u001b[39minstances)][:\u001b[38;5;241m-\u001b[39m\u001b[38;5;241m1\u001b[39m]\n\u001b[0;32m     35\u001b[0m \u001b[38;5;28;01mreturn\u001b[39;00m summaries\n",
      "Cell \u001b[1;32mIn[4], line 34\u001b[0m, in \u001b[0;36m<listcomp>\u001b[1;34m(.0)\u001b[0m\n\u001b[0;32m     32\u001b[0m summaries \u001b[38;5;241m=\u001b[39m {}\n\u001b[0;32m     33\u001b[0m \u001b[38;5;28;01mfor\u001b[39;00m classValue, instances \u001b[38;5;129;01min\u001b[39;00m seperated\u001b[38;5;241m.\u001b[39mitems():\n\u001b[1;32m---> 34\u001b[0m     summaries[classValue] \u001b[38;5;241m=\u001b[39m [(mean(attribute), \u001b[43mstdev\u001b[49m\u001b[43m(\u001b[49m\u001b[43mattribute\u001b[49m\u001b[43m)\u001b[49m) \u001b[38;5;28;01mfor\u001b[39;00m attribute \u001b[38;5;129;01min\u001b[39;00m \u001b[38;5;28mzip\u001b[39m(\u001b[38;5;241m*\u001b[39minstances)][:\u001b[38;5;241m-\u001b[39m\u001b[38;5;241m1\u001b[39m]\n\u001b[0;32m     35\u001b[0m \u001b[38;5;28;01mreturn\u001b[39;00m summaries\n",
      "Cell \u001b[1;32mIn[4], line 22\u001b[0m, in \u001b[0;36mstdev\u001b[1;34m(numbers)\u001b[0m\n\u001b[0;32m     19\u001b[0m \u001b[38;5;28;01mfor\u001b[39;00m i \u001b[38;5;129;01min\u001b[39;00m numbers:\n\u001b[0;32m     20\u001b[0m     variance \u001b[38;5;241m+\u001b[39m\u001b[38;5;241m=\u001b[39m (i \u001b[38;5;241m-\u001b[39m avg) \u001b[38;5;241m*\u001b[39m\u001b[38;5;241m*\u001b[39m \u001b[38;5;241m2\u001b[39m\n\u001b[1;32m---> 22\u001b[0m \u001b[38;5;28;01mreturn\u001b[39;00m math\u001b[38;5;241m.\u001b[39msqrt(\u001b[43mv\u001b[49m \u001b[38;5;241m/\u001b[39m (\u001b[38;5;28mlen\u001b[39m(numbers) \u001b[38;5;241m-\u001b[39m \u001b[38;5;241m1\u001b[39m))\n",
      "\u001b[1;31mNameError\u001b[0m: name 'v' is not defined"
     ]
    }
   ],
   "source": [
    "def loadcsv(filename):\n",
    "    dataset = list(csv.reader(open(filename, \"r\")))\n",
    "    for i in range(len(dataset)):\n",
    "        dataset[i] = [float(x) for x in dataset[i]]\n",
    "    return dataset\n",
    "\n",
    "def splitDataset(dataset, splitRatio):\n",
    "    trainSize = int(len(dataset) * splitRatio)\n",
    "    trainSet = []\n",
    "    trainSet, testSet = dataset[:trainSize], dataset[trainSize:]\n",
    "    return [trainSet, testSet]\n",
    "\n",
    "def mean(numbers):\n",
    "    return sum(numbers) / (len(numbers))\n",
    "\n",
    "def stdev(numbers):\n",
    "    avg = mean(numbers)\n",
    "    variance = 0\n",
    "    for i in numbers:\n",
    "        variance += (i - avg) ** 2\n",
    "\n",
    "    return math.sqrt(variance / (len(numbers) - 1))\n",
    "\n",
    "def summarizeByClass(trainingSet):\n",
    "    seperated = {}\n",
    "    for i in range(len(dataset)):\n",
    "        vector = dataset[i]\n",
    "        if(vector[-1] not in seperated):\n",
    "            seperated[vector[-1]] = []\n",
    "        seperated[vector[-1]].append(vector)\n",
    "\n",
    "    summaries = {}\n",
    "    for classValue, instances in seperated.items():\n",
    "        summaries[classValue] = [(mean(attribute), stdev(attribute)) for attribute in zip(*instances)][:-1]\n",
    "    return summaries\n",
    "\n",
    "def calculateProbablity(x, mean, stdev):\n",
    "    exponent = math.exp((-(x - mean) ** 2) / (2 * (stdev ** 2)))\n",
    "    return (1 / math.sqrt(2 * math.pi * (stdev ** 2))) * exponent\n",
    "\n",
    "def predict(summaries, testSetValue):\n",
    "    probablities = {}\n",
    "    for classValue, instances in summaries.items():\n",
    "        probablities[classValue] = 1\n",
    "        for i in range(len(instances)):\n",
    "            mean, stdev = instances[i]\n",
    "            x = testSetValue[i]\n",
    "            probablities[classValue] *= calculateProbablity(x, mean, stdev)\n",
    "    \n",
    "    bestLabel, bestProb = None, -1\n",
    "    for classValue, probability in probablities.items():\n",
    "        if bestLabel is None or probability >  bestProb:\n",
    "            bestProb = probability\n",
    "            bestLabel = classValue\n",
    "    \n",
    "    return bestLabel\n",
    "\n",
    "def getPredictions(summaries, testSet):\n",
    "    predictions = []\n",
    "    for i in range(len(testSet)):\n",
    "        result = predict(summaries, testSet[i])\n",
    "        predictions.append(result)\n",
    "    return predictions\n",
    "\n",
    "def getAccuracy(testSet, predictions):\n",
    "    correct = 0\n",
    "    for i in range(len(testSet)):\n",
    "        if testSet[i][-1] == predictions[i]:\n",
    "            correct += 1\n",
    "    return (correct / len(testSet)) * 100.0\n",
    "\n",
    "filen = 'diabetes2.csv'\n",
    "splitRatio = 0.9\n",
    "dataset = loadcsv(filename=filen)\n",
    "actual = []\n",
    "trainingSet, testSet = splitDataset(dataset, splitRatio)\n",
    "\n",
    "for i in range(len(testSet)):\n",
    "    vector = testSet[i]\n",
    "    actual.append(vector[-1])\n",
    "\n",
    "print('Split {0} rows into train = {1} and test = {2} rows'.format(len(dataset), len(trainingSet), len(testSet)))\n",
    "\n",
    "summaries = summarizeByClass(trainingSet)\n",
    "predictions = getPredictions(summaries, testSet)\n",
    "\n",
    "print(\"\\nActual values : \\n\", actual)\n",
    "print(\"\\nPredictions :\\n\", predictions)\n",
    "\n",
    "accuracy = getAccuracy(testSet, predictions)\n",
    "\n",
    "print(\"Accuracy : \\n\", accuracy)\n",
    "\n"
   ]
  },
  {
   "cell_type": "code",
   "execution_count": null,
   "metadata": {},
   "outputs": [],
   "source": []
  }
 ],
 "metadata": {
  "kernelspec": {
   "display_name": "Python 3",
   "language": "python",
   "name": "python3"
  },
  "language_info": {
   "codemirror_mode": {
    "name": "ipython",
    "version": 3
   },
   "file_extension": ".py",
   "mimetype": "text/x-python",
   "name": "python",
   "nbconvert_exporter": "python",
   "pygments_lexer": "ipython3",
   "version": "3.10.6"
  }
 },
 "nbformat": 4,
 "nbformat_minor": 2
}
